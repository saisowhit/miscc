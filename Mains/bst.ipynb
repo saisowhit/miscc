{
 "cells": [
  {
   "cell_type": "code",
   "execution_count": 4,
   "metadata": {},
   "outputs": [
    {
     "name": "stdout",
     "output_type": "stream",
     "text": [
      "<__main__.Node object at 0x0000020F01B6C770>\n"
     ]
    }
   ],
   "source": [
    "class Node:\n",
    "    def __init__(self,x):\n",
    "        self.data=x\n",
    "        self.right=None\n",
    "        self.left=None\n",
    "def mirror(root):\n",
    "    if root is None:\n",
    "        return None\n",
    "    right=mirror(root.right)\n",
    "    left=mirror(root.left)\n",
    "    return root\n",
    "def inorder(root):\n",
    "    if root is None:\n",
    "        return\n",
    "    inorder(root.left)\n",
    "    print(root.data)\n",
    "    inorder(root.right)\n",
    "\n",
    "if __name__ == \"__main__\":\n",
    "    \n",
    "    # Input Tree:\n",
    "    #       1\n",
    "    #      / \\\n",
    "    #     2   3\n",
    "    #    / \\\n",
    "    #   4   5\n",
    "    root = Node(1)\n",
    "    root.left = Node(2)\n",
    "    root.right = Node(3)\n",
    "    root.left.left = Node(4)\n",
    "    root.left.right = Node(5)\n",
    "\n",
    "    root = mirror(root)\n",
    "    print(root)"
   ]
  },
  {
   "cell_type": "code",
   "execution_count": 7,
   "metadata": {},
   "outputs": [
    {
     "ename": "UnboundLocalError",
     "evalue": "cannot access local variable 'Node' where it is not associated with a value",
     "output_type": "error",
     "traceback": [
      "\u001b[1;31m---------------------------------------------------------------------------\u001b[0m",
      "\u001b[1;31mUnboundLocalError\u001b[0m                         Traceback (most recent call last)",
      "Cell \u001b[1;32mIn[7], line 19\u001b[0m\n\u001b[0;32m     15\u001b[0m     \u001b[38;5;28;01mreturn\u001b[39;00m Node\n\u001b[0;32m     18\u001b[0m \u001b[38;5;66;03m# Driver code\u001b[39;00m\n\u001b[1;32m---> 19\u001b[0m root \u001b[38;5;241m=\u001b[39m \u001b[43mnewNode\u001b[49m\u001b[43m(\u001b[49m\u001b[38;5;241;43m1\u001b[39;49m\u001b[43m)\u001b[49m\n\u001b[0;32m     20\u001b[0m root\u001b[38;5;241m.\u001b[39mleft \u001b[38;5;241m=\u001b[39m newNode(\u001b[38;5;241m2\u001b[39m)\n\u001b[0;32m     21\u001b[0m root\u001b[38;5;241m.\u001b[39mright \u001b[38;5;241m=\u001b[39m newNode(\u001b[38;5;241m3\u001b[39m)\n",
      "Cell \u001b[1;32mIn[7], line 14\u001b[0m, in \u001b[0;36mnewNode\u001b[1;34m(data)\u001b[0m\n\u001b[0;32m     13\u001b[0m \u001b[38;5;28;01mdef\u001b[39;00m \u001b[38;5;21mnewNode\u001b[39m(data):\n\u001b[1;32m---> 14\u001b[0m     Node \u001b[38;5;241m=\u001b[39m \u001b[43mNode\u001b[49m(data)\n\u001b[0;32m     15\u001b[0m     \u001b[38;5;28;01mreturn\u001b[39;00m Node\n",
      "\u001b[1;31mUnboundLocalError\u001b[0m: cannot access local variable 'Node' where it is not associated with a value"
     ]
    }
   ],
   "source": [
    "## count no of nodes\n",
    "class Node:\n",
    "    def __init__(self,data):\n",
    "        self.data=data\n",
    "        self.right=None\n",
    "        self.right=None\n",
    "def total_count(root):\n",
    "        if root is None:\n",
    "            return None\n",
    "        l=total_count(root.right)\n",
    "        r=total_count(root.left)\n",
    "        return 1+l+r\n",
    "def newNode(data):\n",
    "    Node = Node(data)\n",
    "    return Node\n",
    " \n",
    " \n",
    "# Driver code\n",
    "root = newNode(1)\n",
    "root.left = newNode(2)\n",
    "root.right = newNode(3)\n",
    "root.left.left = newNode(4)\n",
    "root.left.right = newNode(5)\n",
    "root.right.left = newNode(9)\n",
    "root.right.right = newNode(8)\n",
    "root.left.left.left = newNode(6)\n",
    "root.left.left.right = newNode(7)\n",
    " \n",
    "print(total_count(root))"
   ]
  }
 ],
 "metadata": {
  "kernelspec": {
   "display_name": "Python 3",
   "language": "python",
   "name": "python3"
  },
  "language_info": {
   "codemirror_mode": {
    "name": "ipython",
    "version": 3
   },
   "file_extension": ".py",
   "mimetype": "text/x-python",
   "name": "python",
   "nbconvert_exporter": "python",
   "pygments_lexer": "ipython3",
   "version": "3.12.7"
  }
 },
 "nbformat": 4,
 "nbformat_minor": 2
}
