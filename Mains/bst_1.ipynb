{
 "cells": [
  {
   "cell_type": "code",
   "execution_count": 7,
   "metadata": {},
   "outputs": [
    {
     "name": "stdout",
     "output_type": "stream",
     "text": [
      "20 30 40 50 60 70 80 80 70 60 50 40 30 20 "
     ]
    }
   ],
   "source": [
    "class Node:\n",
    "    def __init__(self,key):\n",
    "        self.val=key\n",
    "        self.right=None\n",
    "        self.left=None\n",
    "def insert(root,key):\n",
    "        if root is None:\n",
    "            return Node(key)\n",
    "        if root.val==key:\n",
    "            return root\n",
    "        if root.val<key:\n",
    "            root.right=insert(root.right,key)\n",
    "        else:\n",
    "            root.left=insert(root.left,key)\n",
    "        return root\n",
    "\n",
    "def inorder(root):\n",
    "        if root:\n",
    "            inorder(root.left)\n",
    "            print(root.val,end=\" \")\n",
    "            inorder(root.right)\n",
    "def preorder(root):\n",
    "     if root:\n",
    "          preorder(root.right)\n",
    "          print(root.val,end=\" \")\n",
    "          preorder(root.left)\n",
    "r = Node(50)\n",
    "r = insert(r, 30)\n",
    "r = insert(r, 20)\n",
    "r = insert(r, 40)\n",
    "r = insert(r, 70)\n",
    "r = insert(r, 60)\n",
    "r = insert(r, 80)\n",
    "inorder(r)\n",
    "preorder(r)    "
   ]
  },
  {
   "cell_type": "code",
   "execution_count": null,
   "metadata": {},
   "outputs": [],
   "source": [
    "## search in binary tree"
   ]
  },
  {
   "cell_type": "code",
   "execution_count": 12,
   "metadata": {},
   "outputs": [
    {
     "name": "stdout",
     "output_type": "stream",
     "text": [
      "Not Found\n",
      "Found\n"
     ]
    }
   ],
   "source": [
    "class Node:\n",
    "    def __init__(self, key):\n",
    "        self.key = key\n",
    "        self.left = None\n",
    "        self.right = None\n",
    "\n",
    "# function to search a key in a BST\n",
    "def search(root, key):\n",
    "  \n",
    "    # Base Cases: root is null or key \n",
    "    # is present at root\n",
    "    if root is None or root.key == key:\n",
    "        return root\n",
    "    \n",
    "    # Key is greater than root's key\n",
    "    if root.key < key:\n",
    "        return search(root.right, key)\n",
    "    \n",
    "    # Key is smaller than root's key\n",
    "    return search(root.left, key)\n",
    "\n",
    "\n",
    " # Creating a hard coded tree for keeping \n",
    " # the length of the code small. We need \n",
    " # to make sure that BST properties are \n",
    " # maintained if we try some other cases.\n",
    "root = Node(50)\n",
    "root.left = Node(30)\n",
    "root.right = Node(70)\n",
    "root.left.left = Node(20)\n",
    "root.left.right = Node(40)\n",
    "root.right.left = Node(60)\n",
    "root.right.right = Node(80)\n",
    "\n",
    "# Searching for keys in the BST\n",
    "print(\"Found\" if search(root, 19) else \"Not Found\")\n",
    "print(\"Found\" if search(root, 80) else \"Not Found\")"
   ]
  },
  {
   "cell_type": "code",
   "execution_count": null,
   "metadata": {},
   "outputs": [],
   "source": [
    "class Node:\n",
    "    def __init__(self,data):\n",
    "        self.data=data\n",
    "        self.right=None\n",
    "        self.left=None\n",
    "    def newNode(data):\n",
    "        temp=Node(data)\n",
    "        return temp\n",
    "    def printLeafNodes(root):\n",
    "        if not root:\n",
    "            return\n",
    "        st=[]\n",
    "        st.append(root)\n",
    "        "
   ]
  }
 ],
 "metadata": {
  "kernelspec": {
   "display_name": "Python 3",
   "language": "python",
   "name": "python3"
  },
  "language_info": {
   "codemirror_mode": {
    "name": "ipython",
    "version": 3
   },
   "file_extension": ".py",
   "mimetype": "text/x-python",
   "name": "python",
   "nbconvert_exporter": "python",
   "pygments_lexer": "ipython3",
   "version": "3.12.7"
  }
 },
 "nbformat": 4,
 "nbformat_minor": 2
}
