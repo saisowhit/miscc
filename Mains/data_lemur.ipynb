{
 "cells": [
  {
   "cell_type": "code",
   "execution_count": null,
   "metadata": {
    "vscode": {
     "languageId": "plaintext"
    }
   },
   "outputs": [],
   "source": [
    "Histogram of Users and Purchases"
   ]
  },
  {
   "cell_type": "code",
   "execution_count": null,
   "metadata": {
    "vscode": {
     "languageId": "plaintext"
    }
   },
   "outputs": [],
   "source": [
    "select transaction_date,userid,count(product_id)\n",
    "from user_transactions\n",
    "group by transaction_date,userid\n",
    "order by transaction_date asc"
   ]
  },
  {
   "cell_type": "code",
   "execution_count": null,
   "metadata": {
    "vscode": {
     "languageId": "plaintext"
    }
   },
   "outputs": [],
   "source": [
    "user_transactions.groupby([\"transaction_date,\"user_id\"])[\"product_id].size().sort_values(by=[\"transaction_date\"],ascending=True)"
   ]
  },
  {
   "cell_type": "code",
   "execution_count": null,
   "metadata": {
    "vscode": {
     "languageId": "plaintext"
    }
   },
   "outputs": [],
   "source": [
    "user_transactions.groupby(\"transaction_date\",\"user_id\").agg(count(col(\"product_id)).alias(\"product_count)).sort(desc(\"product_count)).select(col(\"product_count),col(\"transaction_date),col(\"user_id\")).show()"
   ]
  },
  {
   "cell_type": "code",
   "execution_count": null,
   "metadata": {
    "vscode": {
     "languageId": "plaintext"
    }
   },
   "outputs": [],
   "source": [
    "Smallest Multiple"
   ]
  },
  {
   "cell_type": "code",
   "execution_count": null,
   "metadata": {
    "vscode": {
     "languageId": "plaintext"
    }
   },
   "outputs": [],
   "source": [
    "def smallest_multiple(n):\n",
    "  \"\"\"Finds the smallest positive integer divisible by all integers from 1 to n.\n",
    "\n",
    "  Args:\n",
    "    n: The upper bound.\n",
    "\n",
    "  Returns:\n",
    "    The smallest positive integer divisible by all integers from 1 to n.\n",
    "  \"\"\"\n",
    "\n",
    "  result = 1\n",
    "  for i in range(2, n + 1):\n",
    "    result *= i // math.gcd(result, i)\n",
    "  return result"
   ]
  },
  {
   "cell_type": "code",
   "execution_count": null,
   "metadata": {
    "vscode": {
     "languageId": "plaintext"
    }
   },
   "outputs": [],
   "source": [
    "Active User Retention"
   ]
  },
  {
   "cell_type": "code",
   "execution_count": null,
   "metadata": {
    "vscode": {
     "languageId": "plaintext"
    }
   },
   "outputs": [],
   "source": [
    "select to_chart(event_date,'mm'),count(*)\n",
    "from user_actions\n",
    "where Extract(month from event_date) in and even_type in ('sign-in','like','comment')"
   ]
  },
  {
   "cell_type": "code",
   "execution_count": null,
   "metadata": {
    "vscode": {
     "languageId": "plaintext"
    }
   },
   "outputs": [],
   "source": []
  },
  {
   "cell_type": "code",
   "execution_count": null,
   "metadata": {
    "vscode": {
     "languageId": "plaintext"
    }
   },
   "outputs": [],
   "source": []
  },
  {
   "cell_type": "code",
   "execution_count": null,
   "metadata": {
    "vscode": {
     "languageId": "plaintext"
    }
   },
   "outputs": [],
   "source": [
    "## Email table transformation"
   ]
  },
  {
   "cell_type": "code",
   "execution_count": null,
   "metadata": {
    "vscode": {
     "languageId": "plaintext"
    }
   },
   "outputs": [],
   "source": [
    "select user_id,max(case when email_type=\"personal\" then email end) as personal,max(case when email_type=\"business\" then email end) as business,max(case when email_type=\"recovery\" then email end) as recovery\n",
    "from users\n",
    "group by user_id\n",
    "order by user_id "
   ]
  },
  {
   "cell_type": "code",
   "execution_count": null,
   "metadata": {
    "vscode": {
     "languageId": "plaintext"
    }
   },
   "outputs": [],
   "source": []
  }
 ],
 "metadata": {
  "language_info": {
   "name": "python"
  }
 },
 "nbformat": 4,
 "nbformat_minor": 2
}
