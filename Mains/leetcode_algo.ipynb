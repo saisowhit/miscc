{
 "cells": [
  {
   "cell_type": "code",
   "execution_count": 1,
   "metadata": {},
   "outputs": [
    {
     "name": "stdout",
     "output_type": "stream",
     "text": [
      "1 2 3 4 5 "
     ]
    }
   ],
   "source": [
    "def removeDuplicates(arr):\n",
    "    n = len(arr)\n",
    "    if n <= 1:\n",
    "        return n\n",
    "\n",
    "    idx = 1  # Start from the second element\n",
    "    for i in range(1, n):\n",
    "        if arr[i] != arr[i - 1]:\n",
    "            arr[idx] = arr[i]\n",
    "            idx += 1\n",
    "\n",
    "    return idx\n",
    "\n",
    "# Driver code\n",
    "arr = [1, 2, 2, 3, 4, 4, 4, 5, 5]\n",
    "newSize = removeDuplicates(arr)\n",
    "\n",
    "for i in range(newSize):\n",
    "    print(arr[i], end=\" \")"
   ]
  },
  {
   "cell_type": "code",
   "execution_count": 8,
   "metadata": {},
   "outputs": [
    {
     "name": "stdout",
     "output_type": "stream",
     "text": [
      "1\n",
      "1\n",
      "1\n"
     ]
    }
   ],
   "source": [
    "str = \"Geeks For Geeks\"\n",
    "for ele in str.split():\n",
    "    print(len(ele[-1]))\n"
   ]
  },
  {
   "cell_type": "code",
   "execution_count": null,
   "metadata": {},
   "outputs": [],
   "source": [
    "# replace-every-element-with-the-greatest-on-right-side"
   ]
  },
  {
   "cell_type": "code",
   "execution_count": 14,
   "metadata": {},
   "outputs": [
    {
     "name": "stdout",
     "output_type": "stream",
     "text": [
      "The modified array is:\n",
      "16\n",
      "17\n",
      "4\n",
      "3\n",
      "5\n",
      "2\n"
     ]
    }
   ],
   "source": [
    "def replace_every_element(arr,n):\n",
    "    for i in range(n):\n",
    "        max_value=-1\n",
    "        for j in range(i+1,n):\n",
    "            max_value=max(max_value,arr[j])\n",
    "        return max_value\n",
    "def printArray(arr,size):\n",
    "    for  i in range(size):\n",
    "        print(arr[i])\n",
    "if __name__ == '__main__': \n",
    "    arr = [16, 17, 4, 3, 5, 2] \n",
    "    size = len(arr) \n",
    "    replace_every_element(arr, size) \n",
    "    print(\"The modified array is:\") \n",
    "    printArray(arr, size) \n"
   ]
  },
  {
   "cell_type": "code",
   "execution_count": null,
   "metadata": {},
   "outputs": [],
   "source": [
    "# sum-non-repeating-distinct-elements-array"
   ]
  },
  {
   "cell_type": "code",
   "execution_count": 16,
   "metadata": {},
   "outputs": [
    {
     "name": "stdout",
     "output_type": "stream",
     "text": [
      "21\n"
     ]
    }
   ],
   "source": [
    "from collections import Counter\n",
    "def sumOfElements(arr, n): \n",
    "  \n",
    "    # Counter function is used to \n",
    "    # calculate frequency of elements of array \n",
    "    freq = Counter(arr) \n",
    "  \n",
    "    # Converting keys of freq dictionary to list \n",
    "    lis = list(freq.keys()) \n",
    "  \n",
    "    # Return sum of list \n",
    "    return sum(lis) \n",
    "  \n",
    "  \n",
    "# Driver code \n",
    "if __name__ == \"__main__\": \n",
    "  \n",
    "    arr = [1, 2, 3, 1, 1, 4, 5, 6] \n",
    "    n = len(arr) \n",
    "  \n",
    "    print(sumOfElements(arr, n)) "
   ]
  },
  {
   "cell_type": "code",
   "execution_count": null,
   "metadata": {},
   "outputs": [],
   "source": [
    "# /python-element-with-largest-frequency-in-list/"
   ]
  },
  {
   "cell_type": "code",
   "execution_count": 19,
   "metadata": {},
   "outputs": [
    {
     "data": {
      "text/plain": [
       "1"
      ]
     },
     "execution_count": 19,
     "metadata": {},
     "output_type": "execute_result"
    }
   ],
   "source": [
    "from collections import Counter\n",
    "l1=[1,1,1,2,2,3,4,5,6]\n",
    "vals=Counter(l1)\n",
    "vals.most_common(1)[0][0]"
   ]
  },
  {
   "cell_type": "code",
   "execution_count": null,
   "metadata": {},
   "outputs": [],
   "source": [
    "# Numbers with even digits"
   ]
  },
  {
   "cell_type": "code",
   "execution_count": 23,
   "metadata": {},
   "outputs": [
    {
     "ename": "TypeError",
     "evalue": "'float' object is not subscriptable",
     "output_type": "error",
     "traceback": [
      "\u001b[1;31m---------------------------------------------------------------------------\u001b[0m",
      "\u001b[1;31mTypeError\u001b[0m                                 Traceback (most recent call last)",
      "Cell \u001b[1;32mIn[23], line 12\u001b[0m\n\u001b[0;32m     10\u001b[0m         count\u001b[38;5;241m+\u001b[39m\u001b[38;5;241m=\u001b[39m\u001b[38;5;241m1\u001b[39m\n\u001b[0;32m     11\u001b[0m     \u001b[38;5;28;01mreturn\u001b[39;00m count\n\u001b[1;32m---> 12\u001b[0m \u001b[43mnum_even_digits\u001b[49m\u001b[43m(\u001b[49m\u001b[43ml1\u001b[49m\u001b[43m)\u001b[49m\n",
      "Cell \u001b[1;32mIn[23], line 6\u001b[0m, in \u001b[0;36mnum_even_digits\u001b[1;34m(num)\u001b[0m\n\u001b[0;32m      4\u001b[0m digits\u001b[38;5;241m=\u001b[39m\u001b[38;5;241m0\u001b[39m\n\u001b[0;32m      5\u001b[0m \u001b[38;5;28;01mfor\u001b[39;00m i \u001b[38;5;129;01min\u001b[39;00m \u001b[38;5;28mrange\u001b[39m(\u001b[38;5;28mlen\u001b[39m(num)):\n\u001b[1;32m----> 6\u001b[0m     \u001b[38;5;28;01mif\u001b[39;00m \u001b[43mnum\u001b[49m\u001b[43m[\u001b[49m\u001b[43mi\u001b[49m\u001b[43m]\u001b[49m\u001b[38;5;241m!=\u001b[39m\u001b[38;5;241m0\u001b[39m:\n\u001b[0;32m      7\u001b[0m         num\u001b[38;5;241m=\u001b[39mnum[i]\u001b[38;5;241m/\u001b[39m\u001b[38;5;241m10\u001b[39m\n\u001b[0;32m      8\u001b[0m         digits\u001b[38;5;241m+\u001b[39m\u001b[38;5;241m=\u001b[39m\u001b[38;5;241m1\u001b[39m\n",
      "\u001b[1;31mTypeError\u001b[0m: 'float' object is not subscriptable"
     ]
    }
   ],
   "source": [
    "l1=[12,345,2,6,7896]\n",
    "def num_even_digits(num):\n",
    "    count=0\n",
    "    digits=0\n",
    "    for i in range(len(num)):\n",
    "        if num[i]!=0:\n",
    "            num=num[i]/10\n",
    "            digits+=1\n",
    "    if digits%2==0:\n",
    "        count+=1\n",
    "    return count\n",
    "num_even_digits(l1)"
   ]
  },
  {
   "cell_type": "code",
   "execution_count": null,
   "metadata": {},
   "outputs": [],
   "source": [
    "# find the frequency of each element in a given array "
   ]
  },
  {
   "cell_type": "code",
   "execution_count": 24,
   "metadata": {},
   "outputs": [
    {
     "data": {
      "text/plain": [
       "False"
      ]
     },
     "execution_count": 24,
     "metadata": {},
     "output_type": "execute_result"
    }
   ],
   "source": [
    "def has_unique_frequency(arr):\n",
    "    freq_counter=Counter(arr)\n",
    "    freq_counter_values=Counter(freq_counter.values())\n",
    "    return len(freq_counter)==len(freq_counter_values)\n",
    "arr=[1,2,1,1,1,4]\n",
    "has_unique_frequency(arr)"
   ]
  },
  {
   "cell_type": "code",
   "execution_count": null,
   "metadata": {},
   "outputs": [],
   "source": [
    "# count-substrings-with-same-first-and-last-characters"
   ]
  },
  {
   "cell_type": "code",
   "execution_count": 27,
   "metadata": {},
   "outputs": [
    {
     "name": "stdout",
     "output_type": "stream",
     "text": [
      "2\n"
     ]
    }
   ],
   "source": [
    "def Countsubstring(s):\n",
    "    count=0\n",
    "    for i in range(len(s)):\n",
    "        for j in range(i):\n",
    "            if(s[i]==s[j]):\n",
    "                count=count+1\n",
    "    return count\n",
    "s = \"abcab\"\n",
    "print(Countsubstring(s))"
   ]
  },
  {
   "cell_type": "code",
   "execution_count": null,
   "metadata": {},
   "outputs": [],
   "source": [
    "arr= {1, 2, 4, 6, 3, 7, 8}"
   ]
  },
  {
   "cell_type": "code",
   "execution_count": null,
   "metadata": {},
   "outputs": [],
   "source": [
    "## missing _number"
   ]
  },
  {
   "cell_type": "code",
   "execution_count": 15,
   "metadata": {},
   "outputs": [
    {
     "name": "stdout",
     "output_type": "stream",
     "text": [
      "4\n"
     ]
    }
   ],
   "source": [
    "def missing_number(n, arr):\n",
    "    sum_arr = sum(arr)\n",
    "    \n",
    "    # Calculate the expected sum\n",
    "    expected_sum = (n * (n + 1)) // 2\n",
    "    \n",
    "    # Return the missing number\n",
    "    return expected_sum - sum_arr\n",
    "\n",
    "\n",
    "# Driver code\n",
    "arr = [1, 2, 3, 5]\n",
    "n = 5\n",
    "print(missing_number(n, arr))"
   ]
  },
  {
   "cell_type": "code",
   "execution_count": 8,
   "metadata": {},
   "outputs": [
    {
     "data": {
      "text/plain": [
       "-10"
      ]
     },
     "execution_count": 8,
     "metadata": {},
     "output_type": "execute_result"
    }
   ],
   "source": [
    "def missing_number(n,arr):\n",
    "    total=sum(arr)\n",
    "    expected_sum = (n * (n + 1)) // 2\n",
    "    return expected_sum-total\n",
    "arr=[1,2,3,5]\n",
    "n=1\n",
    "missing_number(n,arr)"
   ]
  },
  {
   "cell_type": "code",
   "execution_count": null,
   "metadata": {},
   "outputs": [],
   "source": [
    "# substrings that contain all vowels in a given string."
   ]
  },
  {
   "cell_type": "code",
   "execution_count": 20,
   "metadata": {},
   "outputs": [
    {
     "name": "stdout",
     "output_type": "stream",
     "text": [
      "[]\n"
     ]
    }
   ],
   "source": [
    "def find_substring(s1):\n",
    "    vowels=set('aeiou')\n",
    "    substring_set=set()\n",
    "    for i in range(len(s1)):\n",
    "        for j in range(i+1,len(s1)+1):\n",
    "            substring=s1[i:j]\n",
    "            if set(substring)>=vowels:\n",
    "                substring_set.add(substring)\n",
    "    return list(substring_set)\n",
    "string = \"hello world\"\n",
    "substrings_with_all_vowels = find_substring(string)\n",
    "print(substrings_with_all_vowels)  # Output: ['hello', 'world']\n",
    "  "
   ]
  },
  {
   "cell_type": "code",
   "execution_count": null,
   "metadata": {},
   "outputs": [],
   "source": [
    "# /largest-sum-contiguous-subarray"
   ]
  },
  {
   "cell_type": "code",
   "execution_count": 13,
   "metadata": {},
   "outputs": [
    {
     "name": "stdout",
     "output_type": "stream",
     "text": [
      "11\n"
     ]
    }
   ],
   "source": [
    "def maxsubarray(arr):\n",
    "    res=arr[0]\n",
    "    maxEnding=arr[0]\n",
    "    for i in range(1,len(arr)):\n",
    "        maxEnding=max(maxEnding+arr[i],arr[i])\n",
    "        res=max(res,maxEnding)\n",
    "    return res\n",
    "arr = [2, 3, -8, 7, -1, 2, 3]\n",
    "print(maxsubarray(arr))\n",
    "# 0(n) and Space is 0(1)"
   ]
  },
  {
   "cell_type": "code",
   "execution_count": 14,
   "metadata": {},
   "outputs": [
    {
     "data": {
      "text/plain": [
       "['example.com', 'example.org']"
      ]
     },
     "execution_count": 14,
     "metadata": {},
     "output_type": "execute_result"
    }
   ],
   "source": [
    "def find_unique_email(emails):\n",
    "    domains=set()\n",
    "    for email in emails:\n",
    "        domain=email.split('@')[-1]\n",
    "        domains.add(domain)\n",
    "    return list(domains)\n",
    "emails = [\"example1@example.com\", \"example2@example.com\", \"another@example.org\"]\n",
    "find_unique_email(emails)"
   ]
  },
  {
   "cell_type": "code",
   "execution_count": null,
   "metadata": {},
   "outputs": [],
   "source": [
    "## Majority element"
   ]
  },
  {
   "cell_type": "code",
   "execution_count": 24,
   "metadata": {},
   "outputs": [
    {
     "name": "stdout",
     "output_type": "stream",
     "text": [
      "1\n"
     ]
    }
   ],
   "source": [
    "from collections import defaultdict\n",
    "def majority_element(arr):\n",
    "    n=len(arr)\n",
    "    d=defaultdict(int)\n",
    "    for num in arr:\n",
    "        d[num]+=1\n",
    "    if d[num]>n/2:\n",
    "        return num\n",
    "    return -1\n",
    "if __name__ == \"__main__\":\n",
    "    arr = [1, 1, 2, 1, 3, 5, 1]\n",
    "    print(majority_element(arr))\n"
   ]
  },
  {
   "cell_type": "code",
   "execution_count": null,
   "metadata": {},
   "outputs": [],
   "source": [
    "#  Longest Substring with At Most Two Distinct Characters\n"
   ]
  },
  {
   "cell_type": "code",
   "execution_count": null,
   "metadata": {},
   "outputs": [],
   "source": []
  },
  {
   "cell_type": "code",
   "execution_count": null,
   "metadata": {},
   "outputs": [],
   "source": [
    "## COUNT SUBARRAYS DIVISIBLE BY K"
   ]
  },
  {
   "cell_type": "code",
   "execution_count": null,
   "metadata": {},
   "outputs": [],
   "source": [
    "def count_subarray(ele):\n",
    "    cnt=0\n",
    "    for eles in range(len(ele)):\n",
    "        sum=0\n",
    "        if sum%k==0:\n",
    "            cnt+=1\n",
    "    return cnt\n",
    "\n",
    "v = [4, 5, 0, -2, -3, 1] \n",
    "k = 5 ## need to see\n"
   ]
  }
 ],
 "metadata": {
  "kernelspec": {
   "display_name": "Python 3",
   "language": "python",
   "name": "python3"
  },
  "language_info": {
   "codemirror_mode": {
    "name": "ipython",
    "version": 3
   },
   "file_extension": ".py",
   "mimetype": "text/x-python",
   "name": "python",
   "nbconvert_exporter": "python",
   "pygments_lexer": "ipython3",
   "version": "3.12.7"
  }
 },
 "nbformat": 4,
 "nbformat_minor": 2
}
